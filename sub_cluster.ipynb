{
 "cells": [
  {
   "cell_type": "code",
   "execution_count": 1,
   "metadata": {},
   "outputs": [
    {
     "name": "stdout",
     "output_type": "stream",
     "text": [
      "581 232\n"
     ]
    }
   ],
   "source": [
    "#读取数据\n",
    "import numpy as np\n",
    "NEW_FILE3 = 'D:/datasets/solar/new_data/new_data4.csv'\n",
    "data = np.loadtxt(NEW_FILE3,delimiter=',',skiprows=1,usecols=(0,1,3,4,5,6,7))#时间、月份、温度、湿度、辐射、漫反射、功率\n",
    "Ever_day = []\n",
    "for i in range(813):\n",
    "    tmp = data[i*21:i*21+21,:]\n",
    "    Ever_day.append(np.mean(tmp, 0))#按列求平均\n",
    "Ever_day = np.array(Ever_day)\n",
    "X = Ever_day[:,1:]\n",
    "from sklearn.cluster import DBSCAN,KMeans\n",
    "#db = KMeans(n_clusters=3).fit(X_scaler)\n",
    "#db = DBSCAN(eps = 0.4, min_samples = 10).fit(X_scaler)\n",
    "db = DBSCAN(eps = 28, min_samples = 5).fit(X)\n",
    "labels = db.labels_\n",
    "Ever_day = np.c_[Ever_day,labels]#在Every_day后增加一列\n",
    "class_one = []\n",
    "class_two = []\n",
    "class_three = []\n",
    "for row in Ever_day:\n",
    "    if row[-1] == -1:\n",
    "        class_one.append(row[0])\n",
    "    elif row[-1] == 0:\n",
    "        class_two.append(row[0])\n",
    "    else:\n",
    "        class_three.append(row[0])\n",
    "class_1 = class_two\n",
    "sub_class = class_one + class_three\n",
    "print(len(class_1),len(sub_class))"
   ]
  },
  {
   "cell_type": "code",
   "execution_count": 2,
   "metadata": {},
   "outputs": [
    {
     "name": "stdout",
     "output_type": "stream",
     "text": [
      "(232, 10)\n"
     ]
    }
   ],
   "source": [
    "#data = np.loadtxt(NEW_FILE3,delimiter=',',skiprows=1,usecols=(0,1,2,3,4,5,6,7,8))\n",
    "#日期、月份、时刻、温度、湿度、辐射、降雨、漫反射、功率\n",
    "date,month,timepoint,temperature,humidity,radiation,diffuse,power = np.loadtxt(NEW_FILE3,delimiter=',',skiprows=1,unpack=True)\n",
    "from sklearn import preprocessing\n",
    "sub_date = []\n",
    "sub_temperature =[]\n",
    "sub_humidity = []\n",
    "sub_radiation = []\n",
    "sub_diffuse = []\n",
    "sub_power = []\n",
    "for i in range(len(date)):\n",
    "    if date[i] in sub_class:\n",
    "        sub_date.append(date[i])\n",
    "        sub_temperature.append(temperature[i])\n",
    "        sub_humidity.append(humidity[i])\n",
    "        sub_radiation.append(radiation[i])\n",
    "        sub_diffuse.append(diffuse[i])\n",
    "        sub_power.append(power[i])\n",
    "\n",
    "sub_date_d = []\n",
    "sub_temperature_d =[]\n",
    "sub_humidity_d = []\n",
    "sub_radiation_d = []\n",
    "sub_diffuse_d = []\n",
    "sub_power_d = []\n",
    "#按日的 温度 湿度  辐射 漫反射 功率\n",
    "for i in range(len(sub_class)):\n",
    "    sub_date_d.append(np.mean(sub_date[i*21:i*21+21]))\n",
    "    sub_temperature_d.append(\n",
    "        [np.max(sub_temperature[i*21:i*21+21]),np.mean(sub_temperature[i*21:i*21+21]),np.min(sub_temperature[i*21:i*21+21])])\n",
    "    sub_humidity_d.append(\n",
    "        [np.max(sub_humidity[i*21:i*21+21]),np.mean(sub_humidity[i*21:i*21+21]),np.min(sub_humidity[i*21:i*21+21])])\n",
    "    sub_radiation_d.append(np.mean(sub_radiation[i*21:i*21+21]))\n",
    "    sub_diffuse_d.append(np.mean(sub_diffuse[i*21:i*21+21]))\n",
    "    sub_power_d.append(np.mean(sub_power[i*21:i*21+21]))\n",
    "sub_date_d = np.reshape(sub_date_d,[-1,1])\n",
    "sub_radiation_d = np.reshape(sub_radiation_d,[-1,1])\n",
    "sub_diffuse_d = np.reshape(sub_diffuse_d,[-1,1])\n",
    "sub_power_d = np.reshape(sub_power_d,[-1,1])\n",
    "#归一化每日 温度 湿度 雨 辐射 漫反射\n",
    "day_temperature_scaler = preprocessing.MinMaxScaler().fit_transform(sub_temperature_d)\n",
    "day_humidity_scaler = preprocessing.MinMaxScaler().fit_transform(sub_humidity_d)\n",
    "day_radiation_scaler = preprocessing.MinMaxScaler().fit_transform(sub_radiation_d)\n",
    "day_diffuse_scaler = preprocessing.MinMaxScaler().fit_transform(sub_diffuse_d)\n",
    "day_power_scaler = preprocessing.MinMaxScaler().fit_transform(sub_power_d)\n",
    "\n",
    "sub_data = np.c_[sub_date_d,day_temperature_scaler,\n",
    "                 day_humidity_scaler,day_radiation_scaler,day_diffuse_scaler,day_power_scaler]\n",
    "print(sub_data.shape)"
   ]
  },
  {
   "cell_type": "code",
   "execution_count": 338,
   "metadata": {},
   "outputs": [
    {
     "name": "stdout",
     "output_type": "stream",
     "text": [
      "{0, 1, 2, -1}\n",
      "[-1, -1, -1, -1, -1, -1, -1, -1, -1, -1, -1, -1, -1, -1, -1, -1, -1, -1, -1, -1, -1, -1, -1, -1, -1, -1, -1, -1, -1, -1, -1, -1, -1, -1, -1, -1, -1, -1, -1, -1, -1, -1, -1, -1, -1, -1, -1, -1, -1, -1, -1, -1, -1, -1, -1, -1, -1, -1, -1, -1, -1, -1, -1, -1, -1, -1, -1, -1, -1, -1, -1, -1, -1, -1, -1, -1, -1, -1, -1, -1, -1, -1, -1, -1, -1, -1, -1, -1, -1, -1, -1, -1, -1, -1, -1, -1, -1, -1, -1, -1, -1, -1, -1, -1, -1, -1, -1, -1, -1, -1, -1, -1, -1, -1, -1, -1, -1, -1, -1, -1, -1, -1, -1, -1, -1, -1, -1, -1, -1, -1, -1, -1, -1, -1, -1, -1, -1, -1, -1, -1, -1, -1, -1, -1, -1, -1, -1, -1, 0, 0, 0, 0, 0, 0, 0, 0, 0, 1, 1, 1, 1, 1, 1, 1, 1, 1, 1, 1, 1, 1, 1, 1, 1, 1, 1, 1, 1, 1, 1, 1, 1, 1, 1, 1, 1, 1, 1, 1, 1, 1, 1, 1, 1, 1, 1, 1, 1, 1, 1, 1, 1, 1, 1, 1, 1, 1, 1, 1, 1, 2, 2, 2, 2, 2, 2, 2, 2, 2, 2, 2, 2, 2, 2, 2, 2, 2, 2, 2, 2, 2, 2, 2]\n",
      "148 84\n"
     ]
    }
   ],
   "source": [
    "X = sub_data[:,1:]\n",
    "db = DBSCAN(eps=0.32, min_samples=9).fit(X)\n",
    "labels = db.labels_\n",
    "p = set(labels)\n",
    "sub_data_labels = np.c_[sub_data,labels]\n",
    "class_2 = []\n",
    "class_3 = []\n",
    "for row in sub_data_labels:\n",
    "    if row[-1] == -1:\n",
    "        class_2.append(row[0])\n",
    "    else:\n",
    "        class_3.append(row[0])\n",
    "print(len(class_2),len(class_3))"
   ]
  },
  {
   "cell_type": "code",
   "execution_count": 339,
   "metadata": {},
   "outputs": [
    {
     "data": {
      "image/png": "[encoded data removed]",
      "text/plain": [
       "<Figure size 432x288 with 1 Axes>"
      ]
     },
     "metadata": {},
     "output_type": "display_data"
    }
   ],
   "source": [
    "import matplotlib.pyplot as plt\n",
    "class_2_curve = []\n",
    "class_3_curve = []\n",
    "for i in range(len(sub_class)):\n",
    "    if sub_date_d[i][0] in class_2:\n",
    "        class_2_curve.append([sub_radiation_d[i][0],sub_power_d[i][0]])\n",
    "    else:\n",
    "        class_3_curve.append([sub_radiation_d[i][0],sub_power_d[i][0]])\n",
    "class_2_curve = np.array(class_2_curve)\n",
    "class_3_curve = np.array(class_3_curve)\n",
    "plt.scatter(class_2_curve[:,0],class_2_curve[:,1],s = 3,c = 'r',label = 'Class2')\n",
    "plt.scatter(class_3_curve[:,0],class_3_curve[:,1],s = 3,c = 'b',label = 'Class3')\n",
    "plt.xlabel('辐射',fontproperties = 'Kaiti',fontsize = 20)\n",
    "plt.ylabel('功率',fontproperties = 'Kaiti',fontsize = 20)\n",
    "plt.title('子类二分类辐射 -- 功率散点图',fontproperties = 'Kaiti',fontsize = 25)\n",
    "plt.legend()\n",
    "plt.show()"
   ]
  },
  {
   "cell_type": "markdown",
   "metadata": {},
   "source": [
    "## SVM"
   ]
  },
  {
   "cell_type": "code",
   "execution_count": 412,
   "metadata": {},
   "outputs": [
    {
     "name": "stdout",
     "output_type": "stream",
     "text": [
      "class 2 : 82.0\n",
      "测试数 16\n"
     ]
    }
   ],
   "source": [
    "data = np.loadtxt(NEW_FILE3,delimiter=',',skiprows=1)\n",
    "for i in range(len(data)):\n",
    "#     if data[i][1] == 1:data[i][1] = 1.705\n",
    "#     elif data[i][1] == 2:data[i][1] = 1.823\n",
    "#     elif data[i][1] == 3:data[i][1] = 1.706\n",
    "#     elif data[i][1] == 4:data[i][1] = 1.561\n",
    "#     elif data[i][1] == 5:data[i][1] = 1.382\n",
    "#     elif data[i][1] == 6:data[i][1] = 1.297\n",
    "#     elif data[i][1] == 7:data[i][1] = 1.465\n",
    "#     elif data[i][1] == 8:data[i][1] = 1.642\n",
    "#     elif data[i][1] == 9:data[i][1] = 1.697\n",
    "#     elif data[i][1] == 10:data[i][1] = 1.776\n",
    "#     elif data[i][1] == 11:data[i][1] = 1.73\n",
    "#     elif data[i][1] == 12:data[i][1] = 1.641\n",
    "    \n",
    "    if data[i][2] == 8.0:data[i][2] = 4.997\n",
    "    elif data[i][2] == 8.5:data[i][2] = 8.631\n",
    "    elif data[i][2] == 9.0:data[i][2] = 12.103\n",
    "    elif data[i][2] == 9.5:data[i][2] = 14.982\n",
    "    elif data[i][2] == 10.0:data[i][2] = 17.569\n",
    "    elif data[i][2] == 10.5:data[i][2] = 19.623\n",
    "    elif data[i][2] == 11.0:data[i][2] = 21.311\n",
    "    elif data[i][2] == 11.5:data[i][2] = 22.565\n",
    "    elif data[i][2] == 12.0:data[i][2] = 23.349\n",
    "    elif data[i][2] == 12.5:data[i][2] = 23.464\n",
    "    elif data[i][2] == 13.0:data[i][2] = 23.431\n",
    "    elif data[i][2] == 13.5:data[i][2] = 23.023\n",
    "    elif data[i][2] == 14.0:data[i][2] = 21.917\n",
    "    elif data[i][2] == 14.5:data[i][2] = 20.513\n",
    "    elif data[i][2] == 15.0:data[i][2] = 19.129\n",
    "    elif data[i][2] == 15.5:data[i][2] = 17.108\n",
    "    elif data[i][2] == 16.0:data[i][2] = 14.687\n",
    "    elif data[i][2] == 16.5:data[i][2] = 11.826\n",
    "    elif data[i][2] == 17.0:data[i][2] = 8.88\n",
    "    elif data[i][2] == 17.5:data[i][2] = 5.4075\n",
    "    elif data[i][2] == 18.0:data[i][2] = 2.4706\n",
    "    \n",
    "    if data[i][-1] == 0:data[i][-1] = data[i][-3]*0.1\n",
    "\n",
    "skip_day = [1,16,31,38,69,81,126,182,197,280,301,320,330,413,484,498,579,622,636,651,683,739,749,860]\n",
    "#skip_day = skip_day + class_1 + class_2 + class_3 + class_4 + class_5 + class_6 + class_7\n",
    "skip_day = skip_day + class_1 + class_2\n",
    "all_data = []\n",
    "for i in range(17073-21):\n",
    "    if data[i][0] in skip_day:\n",
    "        continue\n",
    "    elif i%21 == 0:\n",
    "        all_data.append(np.array([data[i][0],data[i][1],data[i][2],data[i][3],data[i][4],data[i][5],\n",
    "                                  data[i][6],data[i-21][7],data[i-21][7],data[i][7]]))\n",
    "    else:\n",
    "        all_data.append(np.array([data[i][0],data[i][1],data[i][2],data[i][3],data[i][4],data[i][5],\n",
    "                                  data[i][6],data[i-21][7],data[i-1][7],data[i][7]]))\n",
    "print('class 2 :',len(all_data)/21)\n",
    "print('测试数',int(len(all_data)/105))"
   ]
  },
  {
   "cell_type": "code",
   "execution_count": 413,
   "metadata": {},
   "outputs": [
    {
     "name": "stdout",
     "output_type": "stream",
     "text": [
      "class_2 0.3397524075510495\n"
     ]
    }
   ],
   "source": [
    "f = []\n",
    "from sklearn import svm\n",
    "for i in [1,2,3,4,5]:\n",
    "    np.random.seed(i)\n",
    "    test_list = np.random.randint(0,int(len(all_data)/21),size = int(len(all_data)/105))#有重复\n",
    "    test_list = sorted(set(test_list))\n",
    "\n",
    "    train_data = []\n",
    "    train_label = []\n",
    "    test_data = []\n",
    "    test_label = []\n",
    "    train_date = []\n",
    "    test_date = []\n",
    "    for i in range(int(len(all_data)/21)):\n",
    "        for j in range(21):\n",
    "            a = all_data[i*21+j]\n",
    "            if i in test_list:\n",
    "                test_data.append(a[1:-1])\n",
    "                test_label.append(a[-1])\n",
    "                test_date.append(a[0])\n",
    "            else:\n",
    "                train_data.append(a[1:-1])\n",
    "                train_label.append(a[-1])\n",
    "                train_date.append(a[0])\n",
    "    \n",
    "    svr = svm.SVR(kernel = 'rbf', C = 1000, gamma = 0.000011)\n",
    "    svr.fit(train_data,train_label)\n",
    "    predict_power = svr.predict(test_data)\n",
    "    mape = [abs(predict_power[i]-test_label[i])/test_label[i] for i in range(len(test_label))]\n",
    "    f.append(np.mean(mape))\n",
    "print('class_2',np.mean(f))"
   ]
  },
  {
   "cell_type": "code",
   "execution_count": null,
   "metadata": {},
   "outputs": [],
   "source": []
  }
 ],
 "metadata": {
  "kernelspec": {
   "display_name": "Python 3",
   "language": "python",
   "name": "python3"
  },
  "language_info": {
   "codemirror_mode": {
    "name": "ipython",
    "version": 3
   },
   "file_extension": ".py",
   "mimetype": "text/x-python",
   "name": "python",
   "nbconvert_exporter": "python",
   "pygments_lexer": "ipython3",
   "version": "3.6.3"
  }
 },
 "nbformat": 4,
 "nbformat_minor": 2
}
