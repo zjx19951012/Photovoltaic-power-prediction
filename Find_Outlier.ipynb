{
 "cells": [
  {
   "cell_type": "code",
   "execution_count": 1,
   "metadata": {},
   "outputs": [],
   "source": [
    "#读取数据\n",
    "import numpy as np\n",
    "NEW_FILE2 = 'D:/datasets/solar/new_data/new_data2.csv'\n",
    "date, radiation, power = np.loadtxt(NEW_FILE2,delimiter=',',skiprows=1,usecols=(0,5,-1),unpack = True)\n",
    "#power = power/250\n",
    "radiation = radiation/3\n",
    "divide = power/radiation\n",
    "#日期、辐射、功率\n",
    "def switch(apple):\n",
    "    if type(apple) != str:\n",
    "        if apple < 305:year = 2016;apple+=61\n",
    "        elif apple< 670:year = 2017;apple+=61\n",
    "        else:year = 2018;apple+=61\n",
    "        apple%=365\n",
    "        if apple == 0:month = 12;day = 31\n",
    "        elif apple <= 31:month = 1;day = apple\n",
    "        elif apple <= 59:month = 2;day = apple-31\n",
    "        elif apple <= 90:month = 3;day = apple-59\n",
    "        elif apple <= 120:month = 4;day = apple - 90\n",
    "        elif apple <= 151:month = 5;day = apple - 120\n",
    "        elif apple <= 181:month = 6;day = apple - 151\n",
    "        elif apple <= 212:month = 7;day = apple - 181\n",
    "        elif apple <= 243:month = 8;day = apple - 212\n",
    "        elif apple <= 273:month = 9;day = apple - 243\n",
    "        elif apple <= 304:month = 10;day = apple - 273\n",
    "        elif apple <= 334:month = 11;day = apple - 304\n",
    "        elif apple <= 365:month = 12;day = apple - 334\n",
    "        return '%d/%d/%d'%(year,month,day)\n",
    "        \n",
    "    elif type(apple) == str:\n",
    "        a = apple.split('/')\n",
    "        year = int(a[0])\n",
    "        month = int(a[1])\n",
    "        day = int(a[2])\n",
    "        number = 0\n",
    "        if month <= 2:number+=(month-1)*31+day   \n",
    "        elif month <= 7:\n",
    "            if month%2 == 1:number+=59+day+(month-3)*30.5\n",
    "            elif month%2 == 0:number+=90+day+(month-4)*30.5\n",
    "        else:\n",
    "            if month%2 == 0:number+=212+day+(month-8)*30.5\n",
    "            elif month%2 == 1:number+=243+day+(month-9)*30.5\n",
    "        if year == 2016:number-=61\n",
    "        elif year == 2017:number+=304\n",
    "        elif year == 2018:number+=669\n",
    "        return number "
   ]
  },
  {
   "cell_type": "code",
   "execution_count": 2,
   "metadata": {},
   "outputs": [],
   "source": [
    "Ever_Day_Power = []\n",
    "Ever_Day_Radiation = []\n",
    "Ever_Day_Divide = []\n",
    "Date = []\n",
    "\n",
    "for i in range(894):\n",
    "    Ever_Day_Power.append(np.mean(power[i*21:i*21+21]))\n",
    "    Ever_Day_Radiation.append(np.mean(radiation[i*21:i*21+21]))\n",
    "    Ever_Day_Divide.append(np.mean(divide[i*21:i*21+21]))\n",
    "    Date.append(date[i*21])\n",
    "Ever_Day_Power = np.array(Ever_Day_Power)\n",
    "Ever_Day_Radiation = np.array(Ever_Day_Radiation)\n",
    "Ever_Day_Divide = np.array(Ever_Day_Divide)\n",
    "Date = np.array(Date)"
   ]
  },
  {
   "cell_type": "code",
   "execution_count": 16,
   "metadata": {},
   "outputs": [
    {
     "name": "stdout",
     "output_type": "stream",
     "text": [
      "2016/4/29 58.0\n",
      "2016/5/1 60.0\n",
      "2016/5/5 64.0\n",
      "2016/5/6 65.0\n",
      "2016/5/7 66.0\n",
      "2016/5/8 67.0\n",
      "2016/5/19 78.0\n",
      "2016/5/23 82.0\n",
      "2016/5/30 89.0\n",
      "2016/6/2 92.0\n",
      "2016/7/7 127.0\n",
      "2016/7/13 133.0\n",
      "2016/8/23 174.0\n",
      "2016/8/29 180.0\n",
      "2016/8/30 181.0\n",
      "2016/9/13 195.0\n",
      "2016/9/17 199.0\n",
      "2016/9/28 210.0\n",
      "2016/12/6 279.0\n",
      "2016/12/8 281.0\n",
      "2016/12/21 294.0\n",
      "2016/12/26 299.0\n",
      "2017/4/17 411.0\n",
      "2017/4/18 412.0\n",
      "2017/6/25 480.0\n",
      "2017/6/26 481.0\n",
      "2017/6/28 483.0\n",
      "2017/9/30 577.0\n",
      "2017/10/6 583.0\n",
      "2017/11/11 619.0\n",
      "2017/12/11 649.0\n",
      "2017/12/12 650.0\n",
      "2018/2/15 715.0\n",
      "2018/3/8 736.0\n",
      "2018/4/11 770.0\n",
      "2018/4/26 785.0\n",
      "2018/8/2 883.0\n",
      "2018/9/21 933.0\n",
      "38\n"
     ]
    }
   ],
   "source": [
    "from sklearn.cluster import DBSCAN\n",
    "Ever_Day_Divide = np.reshape(Ever_Day_Divide,(894,1))#每日功率辐射比\n",
    "Data1 = np.c_[Ever_Day_Power,Ever_Day_Radiation] #每日功率、辐射\n",
    "db = DBSCAN(eps = 17,min_samples=3).fit(Data1)\n",
    "labels = db.labels_\n",
    "Data = np.c_[Date,labels]\n",
    "count = 0\n",
    "for row in Data:\n",
    "    if row[1] != 0:\n",
    "        print(switch(row[0]),row[0])\n",
    "        count+=1\n",
    "print(count)"
   ]
  },
  {
   "cell_type": "code",
   "execution_count": 17,
   "metadata": {},
   "outputs": [
    {
     "data": {
      "image/png": "[encoded data removed]",
      "text/plain": [
       "<Figure size 432x288 with 1 Axes>"
      ]
     },
     "metadata": {},
     "output_type": "display_data"
    }
   ],
   "source": [
    "import matplotlib.pyplot as plt\n",
    "pltdata = np.c_[Data,Data1]\n",
    "class1 = []\n",
    "class2 = []\n",
    "for row in pltdata:\n",
    "    if row[1] == 0:\n",
    "        class1.append([row[2],row[3]])\n",
    "    else:\n",
    "        class2.append([row[2],row[3]])\n",
    "class1 = np.array(class1)\n",
    "class2 = np.array(class2)\n",
    "plt.scatter(class1[:,0],class1[:,1],s = 3,c = 'r',label = 'Normal')\n",
    "plt.scatter(class2[:,0],class2[:,1],s = 3,c = 'b',label = 'Outlier')\n",
    "plt.xlabel('功率',fontproperties = 'Kaiti',fontsize = 20)\n",
    "plt.ylabel('辐射/3',fontproperties = 'Kaiti',fontsize = 20)\n",
    "plt.title('每日辐射-功率散点图',fontproperties = 'Kaiti',fontsize = 25)\n",
    "plt.legend()\n",
    "plt.show()"
   ]
  }
 ],
 "metadata": {
  "kernelspec": {
   "display_name": "Python 3",
   "language": "python",
   "name": "python3"
  },
  "language_info": {
   "codemirror_mode": {
    "name": "ipython",
    "version": 3
   },
   "file_extension": ".py",
   "mimetype": "text/x-python",
   "name": "python",
   "nbconvert_exporter": "python",
   "pygments_lexer": "ipython3",
   "version": "3.6.3"
  }
 },
 "nbformat": 4,
 "nbformat_minor": 2
}
